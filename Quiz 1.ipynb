{
 "cells": [
  {
   "cell_type": "markdown",
   "metadata": {},
   "source": [
    "<h4 class='prehead'>SM286D &middot; Introduction to Applied Mathematics with Python &middot; Spring 2020 &middot; Uhan</h4>\n",
    "\n",
    "<h1 class='lesson_title'>Quiz 1 &mdash; 28 January 2020</h1>"
   ]
  },
  {
   "cell_type": "markdown",
   "metadata": {},
   "source": [
    "## Instructions"
   ]
  },
  {
   "cell_type": "markdown",
   "metadata": {},
   "source": [
    "You have 25 minutes to complete this quiz. You may use your own course materials (e.g. notes, textbook), as well as any materials directly linked from the [class website](https://www.usna.edu/Users/math/uhan/sm286d/). __No collaboration allowed.__\n",
    "\n",
    "There are a total of 4 problems, worth 15 points.\n",
    "\n",
    "Save your work frequently! When you are finished, submit this file using the SM286D Assignment Submission Form linked on the [class website](https://www.usna.edu/Users/math/uhan/sm286d/)."
   ]
  },
  {
   "cell_type": "markdown",
   "metadata": {},
   "source": [
    "---"
   ]
  },
  {
   "cell_type": "markdown",
   "metadata": {},
   "source": [
    "By typing your name in the box below, you pledge on your honor that you have not used any unauthorized materials, and that you have not given or received any unauthorized assistance."
   ]
  },
  {
   "cell_type": "markdown",
   "metadata": {},
   "source": [
    "<span style=\"color:red\"><strong>WRITE YOUR NAME IN THIS BOX. DOUBLE-CLICK TO EDIT.</strong></span>"
   ]
  },
  {
   "cell_type": "markdown",
   "metadata": {},
   "source": [
    "---"
   ]
  },
  {
   "cell_type": "markdown",
   "metadata": {},
   "source": [
    "## Problem 1 (3 points)"
   ]
  },
  {
   "cell_type": "markdown",
   "metadata": {},
   "source": [
    "In the code cell below, write code that assigns the value of 5 to the variable `numerator` and the value of 7 to the variable `denominator`.  Write code that finds the decimal equivalent of the fraction $\\frac{5}{7}$, and stores the value in the variable `quotient`.  Write code that produces an output statement which **must** look like the example below.\n",
    "\n",
    "```\n",
    "The decimal equivalent of 5/7 is 0.7142857142857143.\n",
    "```\n",
    "\n",
    "You must correctly use an f-string and the variable `quotient` in your print statement for full credit."
   ]
  },
  {
   "cell_type": "code",
   "execution_count": 1,
   "metadata": {},
   "outputs": [
    {
     "name": "stdout",
     "output_type": "stream",
     "text": [
      "The decimal equivalent of 5/7 is 0.7142857142857143.\n"
     ]
    }
   ],
   "source": [
    "numerator = 5\n",
    "denominator = 7\n",
    "quotient = numerator / denominator\n",
    "print(f\"The decimal equivalent of 5/7 is {quotient}.\")"
   ]
  },
  {
   "cell_type": "markdown",
   "metadata": {},
   "source": [
    "## Problem 2 (4 points)"
   ]
  },
  {
   "cell_type": "markdown",
   "metadata": {},
   "source": [
    "In the code cell below, enter a numerical value for your company number for the variable `my_company`.  Then write code that uses appropriate `if`-`elif`-`else` statements to display the correct battalion for the given value of `my_company`.  You may assume that the value of `my_company` is always a numeric value between 1 and 30.  Your output statement should look like the example below if `my_company` takes on values between 1 and 5:\n",
    "\n",
    "```\n",
    "You are a member of 1st Battalion.\n",
    "```\n",
    "\n",
    "You should test your code with different company numbers to make sure it works properly before submitting your quiz."
   ]
  },
  {
   "cell_type": "code",
   "execution_count": 2,
   "metadata": {},
   "outputs": [
    {
     "name": "stdout",
     "output_type": "stream",
     "text": [
      "You are a member of 4th Battalion.\n"
     ]
    }
   ],
   "source": [
    "my_company = 19\n",
    "\n",
    "# Write your code below this comment\n",
    "if my_company <= 5:\n",
    "    print(\"You are a member of 1st Battalion.\")\n",
    "elif my_company <= 10:\n",
    "    print(\"You are a member of 2nd Battalion.\")\n",
    "elif my_company <= 15:\n",
    "    print(\"You are a member of 3rd Battalion.\")\n",
    "elif my_company <= 20:\n",
    "    print(\"You are a member of 4th Battalion.\")\n",
    "elif my_company <= 25:\n",
    "    print(\"You are a member of 5th Battalion.\")\n",
    "else:\n",
    "    print(\"You are a member of 6th Battalion.\")"
   ]
  },
  {
   "cell_type": "markdown",
   "metadata": {},
   "source": [
    "## Problem 3 (4 points total)"
   ]
  },
  {
   "cell_type": "markdown",
   "metadata": {},
   "source": [
    "Use the list `fruit_list` defined in the cell below to answer parts (a), (b), (c), and (d) of this question. The list `fruit_list` will also be used in Question 4 below."
   ]
  },
  {
   "cell_type": "code",
   "execution_count": 3,
   "metadata": {},
   "outputs": [],
   "source": [
    "fruit_list = ['pear', 'apple', 'orange', 'peach', 'lemon', 'lime']"
   ]
  },
  {
   "cell_type": "markdown",
   "metadata": {},
   "source": [
    "__(a)__ In the code cell below, write code that prints **only** the last element of `fruit_list` to the output console."
   ]
  },
  {
   "cell_type": "code",
   "execution_count": 4,
   "metadata": {},
   "outputs": [
    {
     "name": "stdout",
     "output_type": "stream",
     "text": [
      "lime\n",
      "lime\n"
     ]
    }
   ],
   "source": [
    "print(fruit_list[-1])\n",
    "# Can also use the following code\n",
    "print(fruit_list[5])"
   ]
  },
  {
   "cell_type": "markdown",
   "metadata": {},
   "source": [
    "__(b)__ In the code cell below, write code that **temporarily** sorts `fruit_list` alphabetically and prints the newly ordered list to the output console. **IN ADDITION,** print the original list to the output console to make sure it hasn't been changed."
   ]
  },
  {
   "cell_type": "code",
   "execution_count": 5,
   "metadata": {},
   "outputs": [
    {
     "name": "stdout",
     "output_type": "stream",
     "text": [
      "['apple', 'lemon', 'lime', 'orange', 'peach', 'pear']\n",
      "['pear', 'apple', 'orange', 'peach', 'lemon', 'lime']\n"
     ]
    }
   ],
   "source": [
    "print(sorted(fruit_list))\n",
    "print(fruit_list)"
   ]
  },
  {
   "cell_type": "markdown",
   "metadata": {},
   "source": [
    "__(c)__ In the code cell below, write code that replaces `peach` in `fruit_list`, with `banana`.  Check that your code works properly by printing the updated version of `fruit_list` to the output terminal.  For full credit your answer **must not** simply re-create the entire list with `banana` in place of `peach`."
   ]
  },
  {
   "cell_type": "code",
   "execution_count": 6,
   "metadata": {},
   "outputs": [
    {
     "name": "stdout",
     "output_type": "stream",
     "text": [
      "['pear', 'apple', 'orange', 'banana', 'lemon', 'lime']\n"
     ]
    }
   ],
   "source": [
    "fruit_list[3] = 'banana'\n",
    "print(fruit_list)"
   ]
  },
  {
   "cell_type": "markdown",
   "metadata": {},
   "source": [
    "__(d)__ In the code cell below, create a new variable called `less_fruit`.  Use slicing to store **only** the elements `pear`, `apple`, `orange` from `fruit_list` in `less_fruit`.  For full credit your answer **must** use appropriate slicing of `fruit_list`. Check that your code works properly by printing `less_fruit` to the output terminal."
   ]
  },
  {
   "cell_type": "code",
   "execution_count": 7,
   "metadata": {},
   "outputs": [
    {
     "name": "stdout",
     "output_type": "stream",
     "text": [
      "['pear', 'apple', 'orange']\n",
      "['pear', 'apple', 'orange']\n"
     ]
    }
   ],
   "source": [
    "less_fruit = fruit_list[0:3]\n",
    "print(less_fruit)\n",
    "# Can also use the following code\n",
    "less_fruit = fruit_list[:3]\n",
    "print(less_fruit)"
   ]
  },
  {
   "cell_type": "markdown",
   "metadata": {},
   "source": [
    "## Problem 4 (4 points)"
   ]
  },
  {
   "cell_type": "markdown",
   "metadata": {},
   "source": [
    "The code cell below has a list `could_be_yellow`.  Use a `for` loop and appropriate `if`-`elif`-`else` statements to produce output like that shown below.  To receive full credit your answer must include the following:  a `for` loop to go through every fruit in `fruit_list`, appropriate `if`-`elif`-`else` logic to check whether the fruit is in the list `could_be_yellow`, and appropriate print statements depending on whether the fruit could be yellow or not.  To receive full credit, your output should print the name of the fruit using an f-string and the name of the fruit should begin with a capital letter, like this:\n",
    "\n",
    "```\n",
    "Pears can be yellow in color.\n",
    "Apples can be yellow in color.\n",
    "Oranges are not yellow fruit.\n",
    "Bananas can be yellow in color.\n",
    "```\n",
    "\n",
    "and so on."
   ]
  },
  {
   "cell_type": "code",
   "execution_count": 8,
   "metadata": {},
   "outputs": [
    {
     "name": "stdout",
     "output_type": "stream",
     "text": [
      "Pears can be yellow in color.\n",
      "Apples can be yellow in color.\n",
      "Oranges are not yellow fruit.\n",
      "Bananas can be yellow in color.\n",
      "Lemons can be yellow in color.\n",
      "Limes are not yellow fruit.\n"
     ]
    }
   ],
   "source": [
    "could_be_yellow = ['pear', 'apple', 'lemon', 'banana']\n",
    "\n",
    "# Write your code below this comment\n",
    "for fruit in fruit_list:\n",
    "    if fruit in could_be_yellow:\n",
    "        print(f\"{fruit.title()}s can be yellow in color.\")\n",
    "    else:\n",
    "        print(f\"{fruit.title()}s are not yellow fruit.\")"
   ]
  },
  {
   "cell_type": "markdown",
   "metadata": {
    "hide_cell": true
   },
   "source": [
    "## When you're finished"
   ]
  },
  {
   "cell_type": "markdown",
   "metadata": {
    "hide_cell": true
   },
   "source": [
    "* Select **Cell &#8594; Run All**  to run all the cells from top to bottom. Make sure your notebook runs as you expect before submitting it.\n",
    "\n",
    "* Submit this file using the SM286D Assignment Submission Form linked on the [class website](https://www.usna.edu/Users/math/uhan/sm286d/)."
   ]
  }
 ],
 "metadata": {
  "kernelspec": {
   "display_name": "Python 3",
   "language": "python",
   "name": "python3"
  },
  "language_info": {
   "codemirror_mode": {
    "name": "ipython",
    "version": 3
   },
   "file_extension": ".py",
   "mimetype": "text/x-python",
   "name": "python",
   "nbconvert_exporter": "python",
   "pygments_lexer": "ipython3",
   "version": "3.6.4"
  }
 },
 "nbformat": 4,
 "nbformat_minor": 2
}
